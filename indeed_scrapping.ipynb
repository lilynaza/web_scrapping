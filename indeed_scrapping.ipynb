{
 "cells": [
  {
   "cell_type": "code",
   "execution_count": 1,
   "metadata": {},
   "outputs": [],
   "source": [
    "#get the libraries\n",
    "from bs4 import BeautifulSoup\n",
    "import requests\n",
    "import html\n",
    "import pandas as pd"
   ]
  },
  {
   "cell_type": "code",
   "execution_count": 2,
   "metadata": {},
   "outputs": [],
   "source": [
    "\n",
    "def extract(pages):\n",
    "    \"\"\"\"This function get the url of all the pages and returns it\n",
    "    header: can be gotten from seartion for your unique user-agent on google \n",
    "    \"\"\"\n",
    "    header = {'User-Agent': 'Mozilla/5.0 (Windows NT 10.0; Win64; x64) AppleWebKit/537.36 (KHTML, like Gecko) Chrome/97.0.4692.99 Safari/537.36'}\n",
    "    url = f'https://ng.indeed.com/jobs?q=Remote&l=Nigeria&start={pages}'\n",
    "    r = requests.get(url,header)\n",
    "    soup = BeautifulSoup(r.content,'html.parser')\n",
    "    return soup"
   ]
  },
  {
   "cell_type": "code",
   "execution_count": 3,
   "metadata": {},
   "outputs": [],
   "source": [
    "def transform(soup):\n",
    "    tabs = soup.find_all('table',class_='jobCard_mainContent')\n",
    "    for item in tabs:\n",
    "        title = item.find('h2').text.strip()\n",
    "        company = item.find('span', class_ = 'companyName').text.strip()\n",
    "        location = item.find('div', class_ ='companyLocation').text.strip()\n",
    "        try:\n",
    "            salary = item.find('div', class_ ='metadata salary-snippet-container').text\n",
    "        except:\n",
    "            salary = 'None'\n",
    "        #summary = item.find('tr', class_ ='job-snippet').text\n",
    "        #print(summary)\n",
    "        jobs = {'title':title,\n",
    "                'company':company,\n",
    "                'location':location,\n",
    "                'salary':salary }\n",
    "        joblist.append(jobs)\n",
    "        \n",
    "    return"
   ]
  },
  {
   "cell_type": "code",
   "execution_count": 5,
   "metadata": {},
   "outputs": [
    {
     "name": "stdout",
     "output_type": "stream",
     "text": [
      "getting pages,0\n",
      "getting pages,1\n",
      "getting pages,2\n",
      "getting pages,3\n",
      "getting pages,4\n",
      "getting pages,5\n",
      "getting pages,6\n",
      "getting pages,7\n",
      "getting pages,8\n",
      "getting pages,9\n"
     ]
    }
   ],
   "source": [
    "#To loop through all the pages of the site\n",
    "joblist=[]\n",
    "while True:\n",
    "    for i in range(15):\n",
    "        print(f'getting pages,{i}')\n",
    "        c = extract(0)\n",
    "        transform(c)\n",
    "    break"
   ]
  },
  {
   "cell_type": "code",
   "execution_count": 6,
   "metadata": {},
   "outputs": [
    {
     "data": {
      "text/html": [
       "<div>\n",
       "<style scoped>\n",
       "    .dataframe tbody tr th:only-of-type {\n",
       "        vertical-align: middle;\n",
       "    }\n",
       "\n",
       "    .dataframe tbody tr th {\n",
       "        vertical-align: top;\n",
       "    }\n",
       "\n",
       "    .dataframe thead th {\n",
       "        text-align: right;\n",
       "    }\n",
       "</style>\n",
       "<table border=\"1\" class=\"dataframe\">\n",
       "  <thead>\n",
       "    <tr style=\"text-align: right;\">\n",
       "      <th></th>\n",
       "      <th>title</th>\n",
       "      <th>company</th>\n",
       "      <th>location</th>\n",
       "      <th>salary</th>\n",
       "    </tr>\n",
       "  </thead>\n",
       "  <tbody>\n",
       "    <tr>\n",
       "      <th>0</th>\n",
       "      <td>Freelance Copywriters, Translators and Proofre...</td>\n",
       "      <td>Contents.com</td>\n",
       "      <td>Ibadan•Remote</td>\n",
       "      <td>None</td>\n",
       "    </tr>\n",
       "    <tr>\n",
       "      <th>1</th>\n",
       "      <td>newCONTENT WRITING</td>\n",
       "      <td>DigiWorks</td>\n",
       "      <td>Abuja•Remote</td>\n",
       "      <td>None</td>\n",
       "    </tr>\n",
       "    <tr>\n",
       "      <th>2</th>\n",
       "      <td>Inside Sales Representative</td>\n",
       "      <td>LGG Media</td>\n",
       "      <td>Abuja</td>\n",
       "      <td>₦410,940 - ₦692,434 a month</td>\n",
       "    </tr>\n",
       "    <tr>\n",
       "      <th>3</th>\n",
       "      <td>newLEAD GENERATION SPECIALIST</td>\n",
       "      <td>DigiWorks</td>\n",
       "      <td>Abuja•Remote</td>\n",
       "      <td>None</td>\n",
       "    </tr>\n",
       "    <tr>\n",
       "      <th>4</th>\n",
       "      <td>Administrative Assistant - Full-time, Work at ...</td>\n",
       "      <td>Abbrivo International</td>\n",
       "      <td>Benin City•Remote</td>\n",
       "      <td>₦45,000 - ₦50,000 a month</td>\n",
       "    </tr>\n",
       "  </tbody>\n",
       "</table>\n",
       "</div>"
      ],
      "text/plain": [
       "                                               title                company  \\\n",
       "0  Freelance Copywriters, Translators and Proofre...           Contents.com   \n",
       "1                                 newCONTENT WRITING              DigiWorks   \n",
       "2                        Inside Sales Representative              LGG Media   \n",
       "3                      newLEAD GENERATION SPECIALIST              DigiWorks   \n",
       "4  Administrative Assistant - Full-time, Work at ...  Abbrivo International   \n",
       "\n",
       "            location                       salary  \n",
       "0      Ibadan•Remote                         None  \n",
       "1       Abuja•Remote                         None  \n",
       "2              Abuja  ₦410,940 - ₦692,434 a month  \n",
       "3       Abuja•Remote                         None  \n",
       "4  Benin City•Remote    ₦45,000 - ₦50,000 a month  "
      ]
     },
     "execution_count": 6,
     "metadata": {},
     "output_type": "execute_result"
    }
   ],
   "source": [
    "df = pd.DataFrame(joblist)\n",
    "df.head()"
   ]
  },
  {
   "cell_type": "code",
   "execution_count": 7,
   "metadata": {},
   "outputs": [
    {
     "data": {
      "text/plain": [
       "(150, 4)"
      ]
     },
     "execution_count": 7,
     "metadata": {},
     "output_type": "execute_result"
    }
   ],
   "source": [
    "df.shape"
   ]
  },
  {
   "cell_type": "code",
   "execution_count": null,
   "metadata": {},
   "outputs": [],
   "source": [
    "df2.head()"
   ]
  },
  {
   "cell_type": "code",
   "execution_count": null,
   "metadata": {},
   "outputs": [],
   "source": [
    "df.to_csv('indeed_jobs2.csv')"
   ]
  }
 ],
 "metadata": {
  "kernelspec": {
   "display_name": "Python 3",
   "language": "python",
   "name": "python3"
  },
  "language_info": {
   "codemirror_mode": {
    "name": "ipython",
    "version": 3
   },
   "file_extension": ".py",
   "mimetype": "text/x-python",
   "name": "python",
   "nbconvert_exporter": "python",
   "pygments_lexer": "ipython3",
   "version": "3.8.5"
  }
 },
 "nbformat": 4,
 "nbformat_minor": 4
}
