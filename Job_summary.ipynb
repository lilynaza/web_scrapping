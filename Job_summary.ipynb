{
 "cells": [
  {
   "cell_type": "markdown",
   "metadata": {},
   "source": [
    "## To get the requirement for a job and the details of the company"
   ]
  },
  {
   "cell_type": "code",
   "execution_count": 1,
   "metadata": {},
   "outputs": [],
   "source": [
    "import re\n",
    "from time import sleep\n",
    "from random import randint\n",
    "from bs4 import BeautifulSoup\n",
    "import  requests"
   ]
  },
  {
   "cell_type": "code",
   "execution_count": 2,
   "metadata": {},
   "outputs": [],
   "source": [
    "#url = f'https://ng.indeed.com/jobs?q=Remote&l=Nigeria&start=0'"
   ]
  },
  {
   "cell_type": "code",
   "execution_count": 28,
   "metadata": {},
   "outputs": [],
   "source": [
    "# request parameters\n",
    "params = { \"q\": \"datascience\", \"l\": \"charlotte+nc\", \"start\": 0 }\n",
    "url = \"https://www.indeed.com/jobs\"\n",
    "job_keys = set()"
   ]
  },
  {
   "cell_type": "code",
   "execution_count": 29,
   "metadata": {},
   "outputs": [],
   "source": [
    "# regex pattern to identify job keys\n",
    "jk_pattern = re.compile(r\"jk:\\'([a-zA-Z0-9]+)'\")\n"
   ]
  },
  {
   "cell_type": "code",
   "execution_count": 30,
   "metadata": {},
   "outputs": [],
   "source": [
    "# get the first 10 pages as a test\n",
    "for x in range(5):\n",
    "    response = requests.get(url, params=params)\n",
    "    if not response.status_code == 200:\n",
    "        break\n",
    "    else:\n",
    "        keys = jk_pattern.findall(response.text)\n",
    "        if len(keys) > 0:\n",
    "            for key in keys:\n",
    "                job_keys.add(key)\n",
    "    \n",
    "    params['start'] += 20\n",
    "    sleep(randint(0, 3))"
   ]
  },
  {
   "cell_type": "code",
   "execution_count": 31,
   "metadata": {},
   "outputs": [
    {
     "data": {
      "text/plain": [
       "69"
      ]
     },
     "execution_count": 31,
     "metadata": {},
     "output_type": "execute_result"
    }
   ],
   "source": [
    "len(job_keys)"
   ]
  },
  {
   "cell_type": "code",
   "execution_count": 32,
   "metadata": {},
   "outputs": [],
   "source": [
    "template = \"https://www.indeed.com/viewjob?jk={}\""
   ]
  },
  {
   "cell_type": "code",
   "execution_count": 33,
   "metadata": {},
   "outputs": [],
   "source": [
    "# raw html from job page.... scraping log to be applied with BeautifulSoup here...\n",
    "jk = job_keys.pop()\n",
    "job_url = template.format(jk)\n",
    "response = requests.get(job_url)"
   ]
  },
  {
   "cell_type": "code",
   "execution_count": 34,
   "metadata": {},
   "outputs": [],
   "source": [
    "soup = BeautifulSoup(response.text, 'html.parser')"
   ]
  },
  {
   "cell_type": "code",
   "execution_count": 35,
   "metadata": {},
   "outputs": [
    {
     "name": "stdout",
     "output_type": "stream",
     "text": [
      "Lowe’s is able to offer remote employment of this position in the following states: AL, AR, AZ, CA(salaried roles only), CT, CO, DE, FL, GA, IA, ID, IL, IN, KS, KY, LA, MD, MA, ME, MI, MN, MO, MS, MT, NC, ND, NE, NH, NJ, NM, NV, NY, OH, OK, OR, PA, RI, SC, SD, TN, TX, UT, VA, VT, WA, WI, WV, WY.\n",
      "\n",
      "Job Summary\n",
      "The Senior Analyst, Online Business Intelligence, leverages the Online Analytics & Reporting (OAR), Finance and DACI teams’ reporting capabilities to identify major financial and customer improvement opportunities for the Online business. The Senior Analyst will identify new opportunities in traffic, conversion, AOV, Inventory, Cancels, Returns, Delivery SLAs and other digital metrics. The Senior Analyst partners with team members of the OAR team to build out compelling insights and recommendations that can drive positive business outcomes for the business. This individual will also work directly with the Marketing, Tech/Product Management, Merchandising, Stores, and Supply Chain teams to partner and share insights that lead to tangible financial and customer impacts on Lowes.com and our App platforms. The Senior Analyst will also support tracking of actions taken by the partner teams and monitor their financial and customer performance against the Online business objectives.\n",
      "Key Responsibilities\n",
      "Leverage existing reporting tools to identify significant financial and customer improvement opportunities for the Online business across traffic, conversion, AOV, Inventory, Cancels, Returns, Delivery SLAs and other digital metrics.Partner with team members of the OAR team to build out compelling insights and recommendations that can drive positive business outcomes for the business.Collaborates with partner teams - Marketing, Tech/Product Management, Merchandising, Stores, and Supply Chain - to partner and share insights that lead to tangible financial and customer impacts on Lowes.com and our App platforms.Detect root causes of changes in metrics and alerts the necessary teams on actions needed.Document reporting needs for business partner teams to be shared with other OAR team Associates or the DACI teams.Support tracking of actions taken by the partner teams and monitor their financial and customer performance against the Online business objectives.\n",
      "Minimum QualificationsBachelor’s Degree in Finance, Data Science, Economics, Engineering, or Related Fields3 years of relevant experience2 years of experience with Excel, PoweBI, Tableau (or similar analysis tools)\n",
      "Preferred Qualifications\n",
      "Master’s Degree – MBA or Related Field2 years of experience in Online retail or Omni-Channel merchandising\n",
      "About Lowe’s:\n",
      "\n",
      "Lowe’s Companies, Inc. (NYSE: LOW) is a FORTUNE® 50 home improvement company serving approximately 20 million customers a week in the United States and Canada. With fiscal year 2020 sales of nearly $90 billion, Lowe’s and its related businesses operate or service more than 2,200 home improvement and hardware stores and employ over 300,000 associates. Based in Mooresville, N.C., Lowe’s supports the communities it serves through programs focused on creating safe, affordable housing and helping to develop the next generation of skilled trade experts. For more information, visit Lowes.com.\n"
     ]
    }
   ],
   "source": [
    "print(soup.find(\"div\", id=\"jobDescriptionText\").text)"
   ]
  },
  {
   "cell_type": "code",
   "execution_count": null,
   "metadata": {},
   "outputs": [],
   "source": []
  }
 ],
 "metadata": {
  "kernelspec": {
   "display_name": "Python 3",
   "language": "python",
   "name": "python3"
  },
  "language_info": {
   "codemirror_mode": {
    "name": "ipython",
    "version": 3
   },
   "file_extension": ".py",
   "mimetype": "text/x-python",
   "name": "python",
   "nbconvert_exporter": "python",
   "pygments_lexer": "ipython3",
   "version": "3.8.5"
  }
 },
 "nbformat": 4,
 "nbformat_minor": 4
}
